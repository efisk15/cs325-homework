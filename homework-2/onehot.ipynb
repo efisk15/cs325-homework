{
 "cells": [
  {
   "cell_type": "code",
   "execution_count": 1,
   "id": "40b8656f",
   "metadata": {},
   "outputs": [],
   "source": [
    "\n",
    "import numpy as np\n",
    "\n",
    "DataFrame = None\n",
    "Columns = []\n",
    "def PandasOneHotEncodeNumpy(DataFrame, Columns):\n",
    "    # Initialize output matrix as None (will be created when we process first column)\n",
    "    OutNumpyMat = None\n",
    "    # Initialize list to store column names for the encoded features\n",
    "    columnNames = []\n",
    "    \n",
    "    # Loop through each column that we want to one-hot encode\n",
    "    for col in Columns:\n",
    "        unique_values = sorted(DataFrame[col].unique())\n",
    "        one_hot = (DataFrame[col].values[:, None] == unique_values).astype(int)\n",
    "        one_hot = one_hot[:, :-1]\n",
    "        \n",
    "        if OutNumpyMat is None:\n",
    "            OutNumpyMat = one_hot\n",
    "        else:\n",
    "            OutNumpyMat = np.hstack((OutNumpyMat, one_hot))\n",
    "        \n",
    "        columnNames.extend([f\"{col}_{val}\" for val in unique_values[:-1]])\n",
    "    \n",
    "    return OutNumpyMat, columnNames"
   ]
  },
  {
   "cell_type": "code",
   "execution_count": 2,
   "id": "cb7021f3",
   "metadata": {},
   "outputs": [
    {
     "name": "stdout",
     "output_type": "stream",
     "text": [
      "Test DataFrame:\n",
      "   Color    Size Category  Price\n",
      "0    Red   Small        A   10.5\n",
      "1   Blue  Medium        B   25.0\n",
      "2  Green   Large        A   15.5\n",
      "3    Red   Small        C   12.0\n",
      "4   Blue   Large        B   30.0\n",
      "5  Green  Medium        A   18.0\n",
      "6    Red   Small        C   11.5\n",
      "\n",
      "DataFrame shape: (7, 4)\n",
      "Data types:\n",
      "Color        object\n",
      "Size         object\n",
      "Category     object\n",
      "Price       float64\n",
      "dtype: object\n"
     ]
    }
   ],
   "source": [
    "import pandas as pd\n",
    "\n",
    "# Create a test DataFrame with categorical data\n",
    "test_data = {\n",
    "    'Color': ['Red', 'Blue', 'Green', 'Red', 'Blue', 'Green', 'Red'],\n",
    "    'Size': ['Small', 'Medium', 'Large', 'Small', 'Large', 'Medium', 'Small'],\n",
    "    'Category': ['A', 'B', 'A', 'C', 'B', 'A', 'C'],\n",
    "    'Price': [10.5, 25.0, 15.5, 12.0, 30.0, 18.0, 11.5]  # Numerical column for reference\n",
    "}\n",
    "\n",
    "DataFrame = pd.DataFrame(test_data)\n",
    "print(\"Test DataFrame:\")\n",
    "print(DataFrame)\n",
    "print(\"\\nDataFrame shape:\", DataFrame.shape)\n",
    "print(\"Data types:\")\n",
    "print(DataFrame.dtypes)"
   ]
  },
  {
   "cell_type": "code",
   "execution_count": 3,
   "id": "e87e2dcf",
   "metadata": {},
   "outputs": [
    {
     "name": "stdout",
     "output_type": "stream",
     "text": [
      "Original DataFrame:\n",
      "   Color    Size Category  Price\n",
      "0    Red   Small        A   10.5\n",
      "1   Blue  Medium        B   25.0\n",
      "2  Green   Large        A   15.5\n",
      "3    Red   Small        C   12.0\n",
      "4   Blue   Large        B   30.0\n",
      "5  Green  Medium        A   18.0\n",
      "6    Red   Small        C   11.5\n",
      "\n",
      "One-hot encoded matrix shape: (7, 6)\n",
      "One-hot encoded matrix:\n",
      "[[0 0 0 0 1 0]\n",
      " [1 0 0 1 0 1]\n",
      " [0 1 1 0 1 0]\n",
      " [0 0 0 0 0 0]\n",
      " [1 0 1 0 0 1]\n",
      " [0 1 0 1 1 0]\n",
      " [0 0 0 0 0 0]]\n",
      "\n",
      "Column names after encoding:\n",
      "['Color_Blue', 'Color_Green', 'Size_Large', 'Size_Medium', 'Category_A', 'Category_B']\n",
      "\n",
      "Data type of encoded matrix: float32\n"
     ]
    }
   ],
   "source": [
    "# Test the one-hot encoding function\n",
    "Columns = ['Color', 'Size', 'Category']  # Categorical columns to encode\n",
    "\n",
    "# Call your function\n",
    "encoded_matrix, column_names = PandasOneHotEncodeNumpy(DataFrame, Columns)\n",
    "\n",
    "print(\"Original DataFrame:\")\n",
    "print(DataFrame)\n",
    "print(\"\\nOne-hot encoded matrix shape:\", encoded_matrix.shape)\n",
    "print(\"One-hot encoded matrix:\")\n",
    "print(encoded_matrix)\n",
    "print(\"\\nColumn names after encoding:\")\n",
    "print(column_names)\n",
    "\n",
    "# Convert to Float32 as requested\n",
    "encoded_matrix_float32 = encoded_matrix.astype(np.float32)\n",
    "print(\"\\nData type of encoded matrix:\", encoded_matrix_float32.dtype)"
   ]
  }
 ],
 "metadata": {
  "kernelspec": {
   "display_name": "Python 3",
   "language": "python",
   "name": "python3"
  },
  "language_info": {
   "codemirror_mode": {
    "name": "ipython",
    "version": 3
   },
   "file_extension": ".py",
   "mimetype": "text/x-python",
   "name": "python",
   "nbconvert_exporter": "python",
   "pygments_lexer": "ipython3",
   "version": "3.11.2"
  }
 },
 "nbformat": 4,
 "nbformat_minor": 5
}
