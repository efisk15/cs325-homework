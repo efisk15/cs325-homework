{
 "cells": [
  {
   "cell_type": "code",
   "execution_count": 52,
   "id": "1215e531",
   "metadata": {},
   "outputs": [],
   "source": [
    "import numpy as np\n",
    "import pandas as pd\n",
    "import sklearn as sk\n",
    "\n",
    "# Read files\n",
    "train_data = pd.read_csv(\"train.csv\")\n",
    "test_df = pd.read_csv('test.csv')"
   ]
  },
  {
   "cell_type": "code",
   "execution_count": 53,
   "id": "bf70cadb",
   "metadata": {},
   "outputs": [],
   "source": [
    "# Drop unneeded columns\n",
    "cols_to_drop = ['Cabin', 'Name', 'Ticket']\n",
    "train_data = train_data.drop(columns=cols_to_drop)\n",
    "test_df = test_df.drop(columns=cols_to_drop)\n",
    "train_data = train_data.drop(\"PassengerId\", axis=1)"
   ]
  },
  {
   "cell_type": "code",
   "execution_count": 54,
   "id": "efd1709f",
   "metadata": {},
   "outputs": [],
   "source": [
    "# One hot encode\n",
    "def one_hot_encode_sex_embarked(df):\n",
    "    # Remove rows where Embarked is NaN\n",
    "    df = df.dropna(subset=['Embarked'])\n",
    "    # One hot encode 'Sex' and 'Embarked'\n",
    "    df = pd.get_dummies(df, columns=['Sex', 'Embarked'], drop_first=False)\n",
    "    return df"
   ]
  },
  {
   "cell_type": "code",
   "execution_count": 55,
   "id": "552ee9f8",
   "metadata": {},
   "outputs": [],
   "source": [
    "# Fill missing ages with median age\n",
    "def fill_missing_ages(df):\n",
    "    median_age = df['Age'].median()\n",
    "    df['Age'] = df['Age'].fillna(median_age)\n",
    "    return df"
   ]
  },
  {
   "cell_type": "code",
   "execution_count": 56,
   "id": "40f65f2e",
   "metadata": {},
   "outputs": [],
   "source": [
    "# Normalize features\n",
    "def normalize_features(df, minmax_cols, standard_cols, fit_stats=None):\n",
    "    df_norm = df.copy()\n",
    "    if fit_stats is None:\n",
    "        fit_stats = {}\n",
    "        for col in minmax_cols:\n",
    "            fit_stats[col] = {\n",
    "                'min': df_norm[col].min(),\n",
    "                'max': df_norm[col].max()\n",
    "            }\n",
    "        for col in standard_cols:\n",
    "            fit_stats[col] = {\n",
    "                'mean': df_norm[col].mean(),\n",
    "                'std': df_norm[col].std()\n",
    "            }\n",
    "    for col in minmax_cols:\n",
    "        min_val = fit_stats[col]['min']\n",
    "        max_val = fit_stats[col]['max']\n",
    "        df_norm[col] = (df_norm[col] - min_val) / (max_val - min_val)\n",
    "    for col in standard_cols:\n",
    "        mean = fit_stats[col]['mean']\n",
    "        std = fit_stats[col]['std']\n",
    "        df_norm[col] = (df_norm[col] - mean) / std\n",
    "    if fit_stats is not None:\n",
    "        return df_norm, fit_stats\n",
    "    else:\n",
    "        return df_norm\n",
    "    \n",
    "# One hot encode and fill missing ages\n",
    "train_data = one_hot_encode_sex_embarked(train_data)\n",
    "test_df = one_hot_encode_sex_embarked(test_df)\n",
    "train_data = fill_missing_ages(train_data)\n",
    "test_df = fill_missing_ages(test_df)\n",
    "\n",
    "\n",
    "# Normalize features\n",
    "minmax_cols = ['Pclass','Fare','Age', 'SibSp', 'Parch']\n",
    "standard_cols = []\n",
    "fit_stats = {}\n",
    "train_data, fit_stats = normalize_features(train_data, minmax_cols, standard_cols)\n",
    "test_df, _ = normalize_features(test_df, minmax_cols, standard_cols, fit_stats)\n"
   ]
  },
  {
   "cell_type": "code",
   "execution_count": 57,
   "id": "1c496bab",
   "metadata": {},
   "outputs": [],
   "source": [
    "# sigmoid function\n",
    "def sigmoid(z):\n",
    "    return 1 / (1 + np.exp(-z))"
   ]
  },
  {
   "cell_type": "code",
   "execution_count": 58,
   "id": "0346344f",
   "metadata": {},
   "outputs": [],
   "source": [
    "# Initialize random params function\n",
    "\n",
    "def initialize_params(n_features):\n",
    "    w = np.random.randn(n_features, 1) * 0.01\n",
    "    b = 0.0\n",
    "    return w, b\n"
   ]
  },
  {
   "cell_type": "code",
   "execution_count": 59,
   "id": "2ce8a15f",
   "metadata": {},
   "outputs": [],
   "source": [
    "# Sigmoid\n",
    "def forward(X, w, b):\n",
    "    m_samples = X.shape[0]\n",
    "    Z = np.dot(X, w) + b\n",
    "    a = sigmoid(Z)\n",
    "    return a"
   ]
  },
  {
   "cell_type": "code",
   "execution_count": 60,
   "id": "d5e72c88",
   "metadata": {},
   "outputs": [],
   "source": [
    "# Compute cost\n",
    "def compute_cost(y, y_hat, w):\n",
    "    m_samples = y.shape[0]\n",
    "    epsilon = 1e-15\n",
    "    cost = -(1 / m_samples) * np.sum((y * np.log(y_hat + epsilon) + (1 - y) * np.log(1 - y_hat + epsilon)))\n",
    "    return cost"
   ]
  },
  {
   "cell_type": "code",
   "execution_count": 61,
   "id": "990e13af",
   "metadata": {},
   "outputs": [],
   "source": [
    "# Compute gradients\n",
    "def compute_gradients(X, y, y_hat, w, reg_lambda=0.0):\n",
    "    m_samples = X.shape[0]\n",
    "    dw = (1 / m_samples) * np.dot(X.T, (y_hat - y)) + reg_lambda * w / m_samples\n",
    "    db = (1 / m_samples) * np.sum(y_hat - y)\n",
    "    return dw, db"
   ]
  },
  {
   "cell_type": "code",
   "execution_count": 62,
   "id": "7e8c72c6",
   "metadata": {},
   "outputs": [],
   "source": [
    "# Update params\n",
    "def update_params(w, b, dw, db, lr):\n",
    "    w -= lr * dw\n",
    "    b -= lr * db\n",
    "    return w, b\n"
   ]
  },
  {
   "cell_type": "code",
   "execution_count": 63,
   "id": "10a26fc0",
   "metadata": {},
   "outputs": [],
   "source": [
    "# Train function\n",
    "def train(X, y, lr, n_epochs, X_val=None, y_val=None):\n",
    "    m_samples, m_features = X.shape\n",
    "    w, b = initialize_params(m_features)\n",
    "    train_costs = []\n",
    "    val_costs = []\n",
    "\n",
    "    for epoch in range(n_epochs):\n",
    "        y_hat = forward(X, w, b)\n",
    "        cost = compute_cost(y, y_hat, w)\n",
    "        dw, db = compute_gradients(X, y, y_hat, w, reg_lambda=0.01)\n",
    "        w, b = update_params(w, b, dw, db, lr)\n",
    "\n",
    "        train_costs.append(cost)\n",
    "\n",
    "        if X_val is not None and y_val is not None:\n",
    "            y_val_hat = forward(X_val, w, b)\n",
    "            val_cost = compute_cost(y_val, y_val_hat, w)\n",
    "            val_costs.append(val_cost)\n",
    "\n",
    "    return w, b, train_costs, val_costs\n"
   ]
  },
  {
   "cell_type": "code",
   "execution_count": 64,
   "id": "1f95a4ae",
   "metadata": {},
   "outputs": [],
   "source": [
    "# Predict function\n",
    "def predict_proba(X, w, b):\n",
    "    return forward(X, w, b)\n"
   ]
  },
  {
   "cell_type": "code",
   "execution_count": 65,
   "id": "b57a3f79",
   "metadata": {},
   "outputs": [],
   "source": [
    "\n",
    "\n",
    "# Finish preparing data\n",
    "X = pd.get_dummies(train_data.drop(\"Survived\", axis=1)).values.astype(float)\n",
    "y = train_data[\"Survived\"].values.reshape(-1, 1).astype(float)"
   ]
  },
  {
   "cell_type": "markdown",
   "id": "3b70dc44",
   "metadata": {},
   "source": []
  },
  {
   "cell_type": "code",
   "execution_count": 66,
   "id": "4e789ed8",
   "metadata": {},
   "outputs": [],
   "source": [
    "#Split data into training and validation sets\n",
    "X_train, X_val, y_train, y_val = sk.model_selection.train_test_split(X, y, test_size=0.2, random_state=42)"
   ]
  },
  {
   "cell_type": "code",
   "execution_count": 67,
   "id": "90728bd6",
   "metadata": {},
   "outputs": [
    {
     "data": {
      "image/png": "[encoded data removed]",
      "text/plain": [
       "<Figure size 640x480 with 1 Axes>"
      ]
     },
     "metadata": {},
     "output_type": "display_data"
    }
   ],
   "source": [
    "\n",
    "import matplotlib.pyplot as plt\n",
    "\n",
    "# Train model and plot costs\n",
    "w, b, train_costs, val_costs = train(X_train, y_train, lr=0.01, n_epochs=1000, X_val=X_val, y_val=y_val)\n",
    "\n",
    "plt.plot(train_costs, label='Training Cost')\n",
    "plt.plot(val_costs, label='Validation Cost')\n",
    "plt.xlabel('Epoch')\n",
    "plt.ylabel('Cost')\n",
    "plt.title('Training and Validation Cost over Epochs')\n",
    "plt.legend()\n",
    "plt.show()"
   ]
  },
  {
   "cell_type": "code",
   "execution_count": 68,
   "id": "d7679a8a",
   "metadata": {},
   "outputs": [],
   "source": [
    "\n",
    "#drop the first column in X_test to match training data\n",
    "X_test = test_df.drop(\"PassengerId\", axis=1).values.astype(float)\n",
    "\n",
    "# Make predictions on test set and save to CSV\n",
    "y_test_pred_proba = predict_proba(X_test, w, b)\n",
    "y_test_pred = (y_test_pred_proba >= 0.5).astype(int)\n",
    "output = pd.DataFrame({'PassengerId': test_df.PassengerId, 'Survived': y_test_pred.flatten()})\n",
    "output.to_csv('submission.csv', index=False)\n",
    "\n"
   ]
  }
 ],
 "metadata": {
  "kernelspec": {
   "display_name": "Python 3",
   "language": "python",
   "name": "python3"
  },
  "language_info": {
   "codemirror_mode": {
    "name": "ipython",
    "version": 3
   },
   "file_extension": ".py",
   "mimetype": "text/x-python",
   "name": "python",
   "nbconvert_exporter": "python",
   "pygments_lexer": "ipython3",
   "version": "3.11.2"
  }
 },
 "nbformat": 4,
 "nbformat_minor": 5
}
