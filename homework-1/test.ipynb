{
 "cells": [
  {
   "cell_type": "code",
   "execution_count": 30,
   "id": "19b3d2a3",
   "metadata": {},
   "outputs": [
    {
     "name": "stdout",
     "output_type": "stream",
     "text": [
      "Chance of drawing an Ace on the 4th card: 0.03333333333333333\n",
      "[4, 17, 18, 21, 16, 11, 10, 3, 14, 9, 5, 10, 15, 10, 8, 15, 8, 9, 18, 13, 1, 1, 5, 3, 13, 9, 22, 34, 1, 11]\n"
     ]
    }
   ],
   "source": [
    "import random\n",
    "\n",
    "# Define the 52 cards in a standard deck\n",
    "suits = ['Hearts', 'Diamonds', 'Clubs', 'Spades']\n",
    "ranks = ['2', '3', '4', '5', '6', '7', '8', '9', '10', 'J', 'Q', 'K', 'A']\n",
    "deck = [f\"{rank} of {suit}\" for suit in suits for rank in ranks]\n",
    "\n",
    "NUM_TRIALS = 30\n",
    "\n",
    "# Run the simulation 100000 times\n",
    "draw_counts = []\n",
    "for _ in range(NUM_TRIALS):\n",
    "    shuffled_deck = deck.copy()\n",
    "    random.shuffle(shuffled_deck)\n",
    "    count = 0\n",
    "    for card in shuffled_deck:\n",
    "        count += 1\n",
    "        if card.startswith('A'):\n",
    "            break\n",
    "    draw_counts.append(count)\n",
    "num_fours = 0\n",
    "for count in draw_counts:\n",
    "    if count == 4:\n",
    "        num_fours += 1\n",
    "print(f\"Chance of drawing an Ace on the 4th card: {num_fours / NUM_TRIALS}\")\n",
    "print(draw_counts)\n"
   ]
  }
 ],
 "metadata": {
  "kernelspec": {
   "display_name": "Python 3",
   "language": "python",
   "name": "python3"
  },
  "language_info": {
   "codemirror_mode": {
    "name": "ipython",
    "version": 3
   },
   "file_extension": ".py",
   "mimetype": "text/x-python",
   "name": "python",
   "nbconvert_exporter": "python",
   "pygments_lexer": "ipython3",
   "version": "3.13.7"
  }
 },
 "nbformat": 4,
 "nbformat_minor": 5
}
